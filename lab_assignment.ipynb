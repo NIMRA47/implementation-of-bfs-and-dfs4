{
  "nbformat": 4,
  "nbformat_minor": 0,
  "metadata": {
    "colab": {
      "provenance": [],
      "toc_visible": true
    },
    "kernelspec": {
      "name": "python3",
      "display_name": "Python 3"
    },
    "language_info": {
      "name": "python"
    }
  },
  "cells": [
    {
      "cell_type": "code",
      "execution_count": null,
      "metadata": {
        "id": "IfSFZfVqgEjO"
      },
      "outputs": [],
      "source": []
    },
    {
      "cell_type": "markdown",
      "source": [
        "implementation of bfs and dfs"
      ],
      "metadata": {
        "id": "DM_KckXngJPe"
      }
    },
    {
      "cell_type": "code",
      "source": [
        "from collections import deque\n",
        "def bfs(graph, start):\n",
        "    visited = []\n",
        "    queue = deque([start])\n",
        "    visited.append(start)\n",
        "    traversal_result = []\n",
        "\n",
        "    while queue:\n",
        "        node = queue.popleft()\n",
        "        traversal_result.append(node)\n",
        "        for neighbour in graph[node]:\n",
        "            if neighbour not in visited:\n",
        "                visited.append(neighbour)\n",
        "                queue.append(neighbour)\n",
        "\n",
        "    print(\"BFS Traversal:\")\n",
        "    print(traversal_result)\n",
        "    return traversal_result\n",
        "def dfs(graph, start):\n",
        "    visited = set()\n",
        "    traversal_result = []\n",
        "\n",
        "    def explore(node):\n",
        "        visited.add(node)\n",
        "        traversal_result.append(node)\n",
        "        for neighbour in graph[node]:\n",
        "            if neighbour not in visited:\n",
        "                explore(neighbour)\n",
        "\n",
        "    explore(start)\n",
        "\n",
        "    print(traversal_result)\n",
        "    return traversal_result\n",
        "\n",
        "graph = {\n",
        "    0: [4, 5,2],\n",
        "    5: [1, 4, 0],\n",
        "    4: [2, 0, 5, 1],\n",
        "    2: [3, 0, 4],\n",
        "    3: [2],\n",
        "    1:[4,5],\n",
        "}\n",
        "\n",
        "bfs(graph, 0)\n",
        "\n",
        "print(\"\\nDFS Traversal:\")\n",
        "dfs(graph, 0)"
      ],
      "metadata": {
        "colab": {
          "base_uri": "https://localhost:8080/"
        },
        "id": "xTlJudW6gWzP",
        "outputId": "97b1ae3d-2192-4553-9dee-f5f89f3f4ae0"
      },
      "execution_count": null,
      "outputs": [
        {
          "output_type": "stream",
          "name": "stdout",
          "text": [
            "BFS Traversal:\n",
            "[0, 4, 5, 2, 1, 3]\n",
            "\n",
            "DFS Traversal:\n",
            "[0, 4, 2, 3, 5, 1]\n"
          ]
        },
        {
          "output_type": "execute_result",
          "data": {
            "text/plain": [
              "[0, 4, 2, 3, 5, 1]"
            ]
          },
          "metadata": {},
          "execution_count": 11
        }
      ]
    },
    {
      "cell_type": "markdown",
      "source": [
        "generate random numbers"
      ],
      "metadata": {
        "id": "drTBpsCWgN9Z"
      }
    },
    {
      "cell_type": "code",
      "source": [
        "import random\n",
        "import time\n",
        "import pandas as pd\n",
        "import matplotlib.pyplot as plt\n",
        "from collections import deque\n",
        "sizes=[10000,40000,80000,200000,100000]\n",
        "datasets=[random.sample(range(1,size*2),size) for size in sizes ]\n",
        "class Node:\n",
        " def __init__(self, value):\n",
        "    self.value = value\n",
        "    self.left = None\n",
        "    self.right = None\n",
        "def insert (root,value):\n",
        "  if root is None:\n",
        "    return Node(value)\n",
        "  if value < root.value:\n",
        "      root.left = insert(root.left,value)\n",
        "  else:\n",
        "      root.right = insert(root.right,value)\n",
        "  return root\n",
        "def built_bst(lst):\n",
        "    root=None\n",
        "    for value in lst:\n",
        "      root=insert(root,value)\n",
        "    return root\n",
        "def bfs(root,goal):\n",
        "      if root is None:\n",
        "        return False\n",
        "      queue=deque([root])\n",
        "      while queue:\n",
        "          node=queue.popleft()\n",
        "          if node.value==goal:\n",
        "            return True\n",
        "          if node.left:queue.append(node.left)\n",
        "          if node.right:queue.append(node.right)\n",
        "      return False\n",
        "\n",
        "\n",
        "def dfs (root,goal):\n",
        "              if root is None:\n",
        "                 return False\n",
        "              stack=[root]\n",
        "              while stack:\n",
        "                node=stack.pop()\n",
        "                if node.value==goal:\n",
        "                  return True\n",
        "                if node.right:stack.append(node.right)\n",
        "                if node.left:stack.append(node.left)\n",
        "\n",
        "\n",
        "              return False\n",
        "results=[]\n",
        "for i ,data in enumerate(datasets):\n",
        "      bst_root=built_bst(data)\n",
        "      goal=data[len(data)-220]\n",
        "      start_bfs = time.time()\n",
        "      bfs(bst_root, goal)\n",
        "      end_bfs = time.time()\n",
        "      bfs_time = end_bfs - start_bfs\n",
        "      start_dfs = time.time()\n",
        "      dfs_result = dfs(bst_root, goal)\n",
        "      end_dfs = time.time()\n",
        "      dfs_time = end_dfs - start_dfs\n",
        "      results.append({'Size': sizes[i], 'BFS Time': bfs_time, 'DFS Time': dfs_time})\n",
        "df = pd.DataFrame(results)\n",
        "print(df)\n",
        "# Step 5: Plotting\n",
        "plt.figure(figsize=(10, 6))\n",
        "plt.bar(df[\"Size\"], df[\"BFS_Time\"], width=15000, label='BFS', color='skyblue')\n",
        "plt.bar(df[\"Size\"], df[\"DFS_Time\"], width=15000, label='DFS', color='orange', alpha=0.7)\n",
        "plt.xlabel(\"Input Size\")\n",
        "plt.ylabel(\"Time (seconds)\")\n",
        "plt.title(\"BFS vs DFS Time Comparison\")\n",
        "plt.legend()\n",
        "plt.grid(True)\n",
        "plt.show()\n",
        "\n"
      ],
      "metadata": {
        "colab": {
          "base_uri": "https://localhost:8080/",
          "height": 669
        },
        "id": "1Pyg8eZR1BQt",
        "outputId": "be7dce15-f883-45ea-813a-41b4ea0ce633"
      },
      "execution_count": null,
      "outputs": [
        {
          "output_type": "stream",
          "name": "stdout",
          "text": [
            "     Size  BFS Time  DFS Time\n",
            "0   10000  0.002533  0.001562\n",
            "1   40000  0.016004  0.029325\n",
            "2   80000  0.028136  0.040717\n",
            "3  200000  0.233731  0.132372\n",
            "4  100000  0.182750  0.063394\n"
          ]
        },
        {
          "output_type": "error",
          "ename": "KeyError",
          "evalue": "'BFS_Time'",
          "traceback": [
            "\u001b[0;31m---------------------------------------------------------------------------\u001b[0m",
            "\u001b[0;31mKeyError\u001b[0m                                  Traceback (most recent call last)",
            "\u001b[0;32m/usr/local/lib/python3.11/dist-packages/pandas/core/indexes/base.py\u001b[0m in \u001b[0;36mget_loc\u001b[0;34m(self, key)\u001b[0m\n\u001b[1;32m   3804\u001b[0m         \u001b[0;32mtry\u001b[0m\u001b[0;34m:\u001b[0m\u001b[0;34m\u001b[0m\u001b[0;34m\u001b[0m\u001b[0m\n\u001b[0;32m-> 3805\u001b[0;31m             \u001b[0;32mreturn\u001b[0m \u001b[0mself\u001b[0m\u001b[0;34m.\u001b[0m\u001b[0m_engine\u001b[0m\u001b[0;34m.\u001b[0m\u001b[0mget_loc\u001b[0m\u001b[0;34m(\u001b[0m\u001b[0mcasted_key\u001b[0m\u001b[0;34m)\u001b[0m\u001b[0;34m\u001b[0m\u001b[0;34m\u001b[0m\u001b[0m\n\u001b[0m\u001b[1;32m   3806\u001b[0m         \u001b[0;32mexcept\u001b[0m \u001b[0mKeyError\u001b[0m \u001b[0;32mas\u001b[0m \u001b[0merr\u001b[0m\u001b[0;34m:\u001b[0m\u001b[0;34m\u001b[0m\u001b[0;34m\u001b[0m\u001b[0m\n",
            "\u001b[0;32mindex.pyx\u001b[0m in \u001b[0;36mpandas._libs.index.IndexEngine.get_loc\u001b[0;34m()\u001b[0m\n",
            "\u001b[0;32mindex.pyx\u001b[0m in \u001b[0;36mpandas._libs.index.IndexEngine.get_loc\u001b[0;34m()\u001b[0m\n",
            "\u001b[0;32mpandas/_libs/hashtable_class_helper.pxi\u001b[0m in \u001b[0;36mpandas._libs.hashtable.PyObjectHashTable.get_item\u001b[0;34m()\u001b[0m\n",
            "\u001b[0;32mpandas/_libs/hashtable_class_helper.pxi\u001b[0m in \u001b[0;36mpandas._libs.hashtable.PyObjectHashTable.get_item\u001b[0;34m()\u001b[0m\n",
            "\u001b[0;31mKeyError\u001b[0m: 'BFS_Time'",
            "\nThe above exception was the direct cause of the following exception:\n",
            "\u001b[0;31mKeyError\u001b[0m                                  Traceback (most recent call last)",
            "\u001b[0;32m<ipython-input-23-f6e37cb0b1dd>\u001b[0m in \u001b[0;36m<cell line: 0>\u001b[0;34m()\u001b[0m\n\u001b[1;32m     67\u001b[0m \u001b[0;31m# Step 5: Plotting\u001b[0m\u001b[0;34m\u001b[0m\u001b[0;34m\u001b[0m\u001b[0m\n\u001b[1;32m     68\u001b[0m \u001b[0mplt\u001b[0m\u001b[0;34m.\u001b[0m\u001b[0mfigure\u001b[0m\u001b[0;34m(\u001b[0m\u001b[0mfigsize\u001b[0m\u001b[0;34m=\u001b[0m\u001b[0;34m(\u001b[0m\u001b[0;36m10\u001b[0m\u001b[0;34m,\u001b[0m \u001b[0;36m6\u001b[0m\u001b[0;34m)\u001b[0m\u001b[0;34m)\u001b[0m\u001b[0;34m\u001b[0m\u001b[0;34m\u001b[0m\u001b[0m\n\u001b[0;32m---> 69\u001b[0;31m \u001b[0mplt\u001b[0m\u001b[0;34m.\u001b[0m\u001b[0mbar\u001b[0m\u001b[0;34m(\u001b[0m\u001b[0mdf\u001b[0m\u001b[0;34m[\u001b[0m\u001b[0;34m\"Size\"\u001b[0m\u001b[0;34m]\u001b[0m\u001b[0;34m,\u001b[0m \u001b[0mdf\u001b[0m\u001b[0;34m[\u001b[0m\u001b[0;34m\"BFS_Time\"\u001b[0m\u001b[0;34m]\u001b[0m\u001b[0;34m,\u001b[0m \u001b[0mwidth\u001b[0m\u001b[0;34m=\u001b[0m\u001b[0;36m15000\u001b[0m\u001b[0;34m,\u001b[0m \u001b[0mlabel\u001b[0m\u001b[0;34m=\u001b[0m\u001b[0;34m'BFS'\u001b[0m\u001b[0;34m,\u001b[0m \u001b[0mcolor\u001b[0m\u001b[0;34m=\u001b[0m\u001b[0;34m'skyblue'\u001b[0m\u001b[0;34m)\u001b[0m\u001b[0;34m\u001b[0m\u001b[0;34m\u001b[0m\u001b[0m\n\u001b[0m\u001b[1;32m     70\u001b[0m \u001b[0mplt\u001b[0m\u001b[0;34m.\u001b[0m\u001b[0mbar\u001b[0m\u001b[0;34m(\u001b[0m\u001b[0mdf\u001b[0m\u001b[0;34m[\u001b[0m\u001b[0;34m\"Size\"\u001b[0m\u001b[0;34m]\u001b[0m\u001b[0;34m,\u001b[0m \u001b[0mdf\u001b[0m\u001b[0;34m[\u001b[0m\u001b[0;34m\"DFS_Time\"\u001b[0m\u001b[0;34m]\u001b[0m\u001b[0;34m,\u001b[0m \u001b[0mwidth\u001b[0m\u001b[0;34m=\u001b[0m\u001b[0;36m15000\u001b[0m\u001b[0;34m,\u001b[0m \u001b[0mlabel\u001b[0m\u001b[0;34m=\u001b[0m\u001b[0;34m'DFS'\u001b[0m\u001b[0;34m,\u001b[0m \u001b[0mcolor\u001b[0m\u001b[0;34m=\u001b[0m\u001b[0;34m'orange'\u001b[0m\u001b[0;34m,\u001b[0m \u001b[0malpha\u001b[0m\u001b[0;34m=\u001b[0m\u001b[0;36m0.7\u001b[0m\u001b[0;34m)\u001b[0m\u001b[0;34m\u001b[0m\u001b[0;34m\u001b[0m\u001b[0m\n\u001b[1;32m     71\u001b[0m \u001b[0mplt\u001b[0m\u001b[0;34m.\u001b[0m\u001b[0mxlabel\u001b[0m\u001b[0;34m(\u001b[0m\u001b[0;34m\"Input Size\"\u001b[0m\u001b[0;34m)\u001b[0m\u001b[0;34m\u001b[0m\u001b[0;34m\u001b[0m\u001b[0m\n",
            "\u001b[0;32m/usr/local/lib/python3.11/dist-packages/pandas/core/frame.py\u001b[0m in \u001b[0;36m__getitem__\u001b[0;34m(self, key)\u001b[0m\n\u001b[1;32m   4100\u001b[0m             \u001b[0;32mif\u001b[0m \u001b[0mself\u001b[0m\u001b[0;34m.\u001b[0m\u001b[0mcolumns\u001b[0m\u001b[0;34m.\u001b[0m\u001b[0mnlevels\u001b[0m \u001b[0;34m>\u001b[0m \u001b[0;36m1\u001b[0m\u001b[0;34m:\u001b[0m\u001b[0;34m\u001b[0m\u001b[0;34m\u001b[0m\u001b[0m\n\u001b[1;32m   4101\u001b[0m                 \u001b[0;32mreturn\u001b[0m \u001b[0mself\u001b[0m\u001b[0;34m.\u001b[0m\u001b[0m_getitem_multilevel\u001b[0m\u001b[0;34m(\u001b[0m\u001b[0mkey\u001b[0m\u001b[0;34m)\u001b[0m\u001b[0;34m\u001b[0m\u001b[0;34m\u001b[0m\u001b[0m\n\u001b[0;32m-> 4102\u001b[0;31m             \u001b[0mindexer\u001b[0m \u001b[0;34m=\u001b[0m \u001b[0mself\u001b[0m\u001b[0;34m.\u001b[0m\u001b[0mcolumns\u001b[0m\u001b[0;34m.\u001b[0m\u001b[0mget_loc\u001b[0m\u001b[0;34m(\u001b[0m\u001b[0mkey\u001b[0m\u001b[0;34m)\u001b[0m\u001b[0;34m\u001b[0m\u001b[0;34m\u001b[0m\u001b[0m\n\u001b[0m\u001b[1;32m   4103\u001b[0m             \u001b[0;32mif\u001b[0m \u001b[0mis_integer\u001b[0m\u001b[0;34m(\u001b[0m\u001b[0mindexer\u001b[0m\u001b[0;34m)\u001b[0m\u001b[0;34m:\u001b[0m\u001b[0;34m\u001b[0m\u001b[0;34m\u001b[0m\u001b[0m\n\u001b[1;32m   4104\u001b[0m                 \u001b[0mindexer\u001b[0m \u001b[0;34m=\u001b[0m \u001b[0;34m[\u001b[0m\u001b[0mindexer\u001b[0m\u001b[0;34m]\u001b[0m\u001b[0;34m\u001b[0m\u001b[0;34m\u001b[0m\u001b[0m\n",
            "\u001b[0;32m/usr/local/lib/python3.11/dist-packages/pandas/core/indexes/base.py\u001b[0m in \u001b[0;36mget_loc\u001b[0;34m(self, key)\u001b[0m\n\u001b[1;32m   3810\u001b[0m             ):\n\u001b[1;32m   3811\u001b[0m                 \u001b[0;32mraise\u001b[0m \u001b[0mInvalidIndexError\u001b[0m\u001b[0;34m(\u001b[0m\u001b[0mkey\u001b[0m\u001b[0;34m)\u001b[0m\u001b[0;34m\u001b[0m\u001b[0;34m\u001b[0m\u001b[0m\n\u001b[0;32m-> 3812\u001b[0;31m             \u001b[0;32mraise\u001b[0m \u001b[0mKeyError\u001b[0m\u001b[0;34m(\u001b[0m\u001b[0mkey\u001b[0m\u001b[0;34m)\u001b[0m \u001b[0;32mfrom\u001b[0m \u001b[0merr\u001b[0m\u001b[0;34m\u001b[0m\u001b[0;34m\u001b[0m\u001b[0m\n\u001b[0m\u001b[1;32m   3813\u001b[0m         \u001b[0;32mexcept\u001b[0m \u001b[0mTypeError\u001b[0m\u001b[0;34m:\u001b[0m\u001b[0;34m\u001b[0m\u001b[0;34m\u001b[0m\u001b[0m\n\u001b[1;32m   3814\u001b[0m             \u001b[0;31m# If we have a listlike key, _check_indexing_error will raise\u001b[0m\u001b[0;34m\u001b[0m\u001b[0;34m\u001b[0m\u001b[0m\n",
            "\u001b[0;31mKeyError\u001b[0m: 'BFS_Time'"
          ]
        },
        {
          "output_type": "display_data",
          "data": {
            "text/plain": [
              "<Figure size 1000x600 with 0 Axes>"
            ]
          },
          "metadata": {}
        }
      ]
    },
    {
      "cell_type": "markdown",
      "source": [
        "third task"
      ],
      "metadata": {
        "id": "irFMIJX6Mn_k"
      }
    },
    {
      "cell_type": "code",
      "source": [
        "from collections import deque\n",
        "\n",
        "# Graph as an adjacency list\n",
        "graph = {\n",
        "    'Islamabad': ['Rawalpindi', 'Lahore', 'Peshawar'],\n",
        "    'Rawalpindi': ['Islamabad', 'Peshawar', 'Quetta'],\n",
        "    'Peshawar': ['Islamabad', 'Rawalpindi', 'Quetta'],\n",
        "    'Lahore': ['Islamabad', 'Multan', 'Quetta'],\n",
        "    'Multan': ['Lahore', 'Karachi', 'Quetta'],\n",
        "    'Quetta': ['Rawalpindi', 'Peshawar', 'Multan', 'Karachi'],\n",
        "    'Karachi': ['Multan', 'Quetta']\n",
        "}\n",
        "\n",
        "def bfs_shortest_path(graph, start, goal):\n",
        "    visited = set()\n",
        "    queue = deque([[start]])  # A queue of paths\n",
        "\n",
        "    while queue:\n",
        "        path = queue.popleft()\n",
        "        city = path[-1]\n",
        "\n",
        "        if city == goal:\n",
        "            return path\n",
        "\n",
        "        if city not in visited:\n",
        "            visited.add(city)\n",
        "            for neighbor in graph[city]:\n",
        "                new_path = list(path)\n",
        "                new_path.append(neighbor)\n",
        "                queue.append(new_path)\n",
        "\n",
        "    return None  # No path found\n",
        "    start_city = 'Islamabad'\n",
        "end_city = 'Karachi'\n",
        "shortest_path = bfs_shortest_path(graph, start_city, end_city)\n",
        "\n",
        "print(\"Shortest path from\", start_city, \"to\", end_city, \"is:\")\n",
        "print(\" ➡ \".join(shortest_path))\n",
        "\n"
      ],
      "metadata": {
        "colab": {
          "base_uri": "https://localhost:8080/",
          "height": 211
        },
        "id": "z5SPaGZAMqEJ",
        "outputId": "d2466ea3-7d7f-4ebd-fe99-5f30d1566ef2"
      },
      "execution_count": null,
      "outputs": [
        {
          "output_type": "error",
          "ename": "NameError",
          "evalue": "name 'start_city' is not defined",
          "traceback": [
            "\u001b[0;31m---------------------------------------------------------------------------\u001b[0m",
            "\u001b[0;31mNameError\u001b[0m                                 Traceback (most recent call last)",
            "\u001b[0;32m<ipython-input-24-6995e4ec8340>\u001b[0m in \u001b[0;36m<cell line: 0>\u001b[0;34m()\u001b[0m\n\u001b[1;32m     33\u001b[0m     \u001b[0mstart_city\u001b[0m \u001b[0;34m=\u001b[0m \u001b[0;34m'Islamabad'\u001b[0m\u001b[0;34m\u001b[0m\u001b[0;34m\u001b[0m\u001b[0m\n\u001b[1;32m     34\u001b[0m \u001b[0mend_city\u001b[0m \u001b[0;34m=\u001b[0m \u001b[0;34m'Karachi'\u001b[0m\u001b[0;34m\u001b[0m\u001b[0;34m\u001b[0m\u001b[0m\n\u001b[0;32m---> 35\u001b[0;31m \u001b[0mshortest_path\u001b[0m \u001b[0;34m=\u001b[0m \u001b[0mbfs_shortest_path\u001b[0m\u001b[0;34m(\u001b[0m\u001b[0mgraph\u001b[0m\u001b[0;34m,\u001b[0m \u001b[0mstart_city\u001b[0m\u001b[0;34m,\u001b[0m \u001b[0mend_city\u001b[0m\u001b[0;34m)\u001b[0m\u001b[0;34m\u001b[0m\u001b[0;34m\u001b[0m\u001b[0m\n\u001b[0m\u001b[1;32m     36\u001b[0m \u001b[0;34m\u001b[0m\u001b[0m\n\u001b[1;32m     37\u001b[0m \u001b[0mprint\u001b[0m\u001b[0;34m(\u001b[0m\u001b[0;34m\"Shortest path from\"\u001b[0m\u001b[0;34m,\u001b[0m \u001b[0mstart_city\u001b[0m\u001b[0;34m,\u001b[0m \u001b[0;34m\"to\"\u001b[0m\u001b[0;34m,\u001b[0m \u001b[0mend_city\u001b[0m\u001b[0;34m,\u001b[0m \u001b[0;34m\"is:\"\u001b[0m\u001b[0;34m)\u001b[0m\u001b[0;34m\u001b[0m\u001b[0;34m\u001b[0m\u001b[0m\n",
            "\u001b[0;31mNameError\u001b[0m: name 'start_city' is not defined"
          ]
        }
      ]
    }
  ]
}