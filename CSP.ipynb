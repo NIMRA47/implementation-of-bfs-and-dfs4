{
  "nbformat": 4,
  "nbformat_minor": 0,
  "metadata": {
    "colab": {
      "provenance": []
    },
    "kernelspec": {
      "name": "python3",
      "display_name": "Python 3"
    },
    "language_info": {
      "name": "python"
    }
  },
  "cells": [
    {
      "cell_type": "code",
      "execution_count": 5,
      "metadata": {
        "colab": {
          "base_uri": "https://localhost:8080/"
        },
        "id": "cXTu722DGKfo",
        "outputId": "3a9e5a2e-41db-4d4c-a615-99a2a4d0f922"
      },
      "outputs": [
        {
          "output_type": "stream",
          "name": "stdout",
          "text": [
            "Valid Solution Found:\n",
            "WA: B\n",
            "NT: G\n",
            "SA: R\n",
            "QLD: B\n",
            "NSW: G\n",
            "VIC: B\n",
            "TAS: R\n",
            "No two adjacent regions share the same color.\n"
          ]
        }
      ],
      "source": [
        "import copy\n",
        "\n",
        "variables = ['WA', 'NT', 'SA', 'QLD', 'NSW', 'VIC', 'TAS']\n",
        "colors = ['R', 'G', 'B']\n",
        "\n",
        "adjacency = {\n",
        "    'WA': ['NT', 'SA'],\n",
        "    'NT': ['WA', 'SA', 'QLD'],\n",
        "    'SA': ['WA', 'NT', 'QLD', 'NSW', 'VIC'],\n",
        "    'QLD': ['NT', 'SA', 'NSW'],\n",
        "    'NSW': ['SA', 'QLD', 'VIC'],\n",
        "    'VIC': ['SA', 'NSW'],\n",
        "    'TAS': []\n",
        "}\n",
        "\n",
        "def init_domains():\n",
        "    return {var: list(colors) for var in variables}\n",
        "\n",
        "def is_valid(var, color, assignment):\n",
        "    return all(assignment.get(neigh) != color for neigh in adjacency[var])\n",
        "\n",
        "def select_unassigned_variable(assignment, domains):\n",
        "    unassigned = [v for v in variables if v not in assignment]\n",
        "    # MRV\n",
        "    mrv_vars = sorted(unassigned, key=lambda var: len(domains[var]))\n",
        "    min_len = len(domains[mrv_vars[0]])\n",
        "    mrv_candidates = [v for v in mrv_vars if len(domains[v]) == min_len]\n",
        "    # Degree heuristic\n",
        "    return max(mrv_candidates, key=lambda var: len([n for n in adjacency[var] if n not in assignment]))\n",
        "\n",
        "def forward_check(var, color, domains, assignment):\n",
        "    removed = {}\n",
        "    for neighbor in adjacency[var]:\n",
        "        if neighbor not in assignment and color in domains[neighbor]:\n",
        "            domains[neighbor].remove(color)\n",
        "            removed.setdefault(neighbor, []).append(color)\n",
        "            if not domains[neighbor]:  # domain wipeout\n",
        "                return False, removed\n",
        "    return True, removed\n",
        "\n",
        "def restore_domains(domains, removed):\n",
        "    for var, values in removed.items():\n",
        "        domains[var].extend(values)\n",
        "\n",
        "def backtrack(assignment, domains):\n",
        "    if len(assignment) == len(variables):\n",
        "        return assignment\n",
        "\n",
        "    var = select_unassigned_variable(assignment, domains)\n",
        "    for color in domains[var]:\n",
        "        if is_valid(var, color, assignment):\n",
        "            assignment[var] = color\n",
        "            new_domains = copy.deepcopy(domains)  # deepcopy to isolate\n",
        "            success, removed = forward_check(var, color, new_domains, assignment)\n",
        "            if success:\n",
        "                result = backtrack(assignment, new_domains)\n",
        "                if result:\n",
        "                    return result\n",
        "            del assignment[var]\n",
        "    return None\n",
        "\n",
        "def main():\n",
        "    domains = init_domains()\n",
        "    solution = backtrack({}, domains)\n",
        "    if solution:\n",
        "        print(\"Valid Solution Found:\")\n",
        "        for state in variables:\n",
        "            print(f\"{state}: {solution[state]}\")\n",
        "        print(\"No two adjacent regions share the same color.\")\n",
        "    else:\n",
        "        print(\" No valid solution found.\")\n",
        "\n",
        "if __name__ == \"__main__\":\n",
        "    main()\n",
        "\n"
      ]
    },
    {
      "cell_type": "code",
      "source": [],
      "metadata": {
        "id": "oVIsu0ZDGu53"
      },
      "execution_count": null,
      "outputs": []
    }
  ]
}