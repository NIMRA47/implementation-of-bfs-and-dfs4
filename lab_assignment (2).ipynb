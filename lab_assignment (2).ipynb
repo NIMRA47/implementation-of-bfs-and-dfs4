{
  "nbformat": 4,
  "nbformat_minor": 0,
  "metadata": {
    "colab": {
      "provenance": []
    },
    "kernelspec": {
      "name": "python3",
      "display_name": "Python 3"
    },
    "language_info": {
      "name": "python"
    }
  },
  "cells": [
    {
      "cell_type": "code",
      "execution_count": null,
      "metadata": {
        "id": "IfSFZfVqgEjO"
      },
      "outputs": [],
      "source": []
    },
    {
      "cell_type": "markdown",
      "source": [
        "implementation of bfs and dfs"
      ],
      "metadata": {
        "id": "DM_KckXngJPe"
      }
    },
    {
      "cell_type": "code",
      "source": [
        "\n",
        "from collections import deque\n",
        "def bfs(graph, start):\n",
        "    visited = []\n",
        "    queue = deque([start])\n",
        "    visited.append(start)\n",
        "    traversal_result = []\n",
        "\n",
        "    while queue:\n",
        "        node = queue.popleft()\n",
        "        traversal_result.append(node)\n",
        "        for neighbour in graph[node]:\n",
        "            if neighbour not in visited:\n",
        "                visited.append(neighbour)\n",
        "                queue.append(neighbour)\n",
        "\n",
        "    print(traversal_result)\n",
        "    return traversal_result\n",
        "def dfs (graph,start):\n",
        "    visited= set()\n",
        "    traversal_result=[]\n",
        "    def explore(node):\n",
        "        traversal_result.append(node)\n",
        "        visited.add(node)\n",
        "        for neighbour in graph[node]:\n",
        "          if neighbour not in visited:\n",
        "            explore(neighbour)\n",
        "    explore(start)\n",
        "\n",
        "    return traversal_result\n",
        "\n",
        "\n",
        "graph = {\n",
        "    0: [4, 5,2],\n",
        "    5: [1, 4, 0],\n",
        "    4: [2, 0, 5, 1],\n",
        "    2: [3, 0, 4],\n",
        "    3: [2],\n",
        "    1:[4,5],\n",
        "}\n",
        "print(\"bfs traversal\")\n",
        "bfs(graph, 0)\n",
        "print(\"\\nDFS traversal\")\n",
        "dfs(graph,0)\n",
        "\n",
        "\n",
        "\n"
      ],
      "metadata": {
        "colab": {
          "base_uri": "https://localhost:8080/"
        },
        "id": "xTlJudW6gWzP",
        "outputId": "70ecfd08-4d24-4fde-8739-15674e1fdc9a"
      },
      "execution_count": null,
      "outputs": [
        {
          "output_type": "stream",
          "name": "stdout",
          "text": [
            "bfs traversal\n",
            "[0, 4, 5, 2, 1, 3]\n",
            "\n",
            "DFS traversal\n"
          ]
        },
        {
          "output_type": "execute_result",
          "data": {
            "text/plain": [
              "[0, 4, 2, 3, 5, 1]"
            ]
          },
          "metadata": {},
          "execution_count": 11
        }
      ]
    },
    {
      "cell_type": "markdown",
      "source": [
        "generate random numbers"
      ],
      "metadata": {
        "id": "drTBpsCWgN9Z"
      }
    },
    {
      "cell_type": "code",
      "source": [
        "import random\n",
        "import time\n",
        "import pandas as pd\n",
        "import matplotlib.pyplot as plt\n",
        "from collections import deque\n",
        "\n",
        "# Step 1: Define dataset sizes\n",
        "sizes = [1000, 40000, 80000, 200000, 1000000]\n",
        "\n",
        "# Step 2: Generate random unique datasets\n",
        "datasets = [random.sample(range(1, size * 2), size) for size in sizes]\n",
        "\n",
        "# Step 3: Define Node class for BST\n",
        "class Node:\n",
        "    def __init__(self, value):\n",
        "        self.value = value\n",
        "        self.left = None\n",
        "        self.right = None\n",
        "\n",
        "# Step 4: Insert function for BST\n",
        "def insert(root, value):\n",
        "    if root is None:\n",
        "        return Node(value)\n",
        "    if value < root.value:\n",
        "        root.left = insert(root.left, value)\n",
        "    else:\n",
        "        root.right = insert(root.right, value)\n",
        "    return root\n",
        "\n",
        "# Step 5: Build BST from list\n",
        "def build_bst(lst):\n",
        "    root = None\n",
        "    for value in lst:\n",
        "        root = insert(root, value)\n",
        "    return root\n",
        "\n",
        "# Step 6: BFS function\n",
        "def bfs(root, goal):\n",
        "    if root is None:\n",
        "        return False\n",
        "    queue = deque([root])\n",
        "    while queue:\n",
        "        node = queue.popleft()\n",
        "        if node.value == goal:\n",
        "            return True\n",
        "        if node.left:\n",
        "            queue.append(node.left)\n",
        "        if node.right:\n",
        "            queue.append(node.right)\n",
        "    return False\n",
        "\n",
        "# Step 7: DFS function\n",
        "def dfs(root, goal):\n",
        "    if root is None:\n",
        "        return False\n",
        "    stack = [root]\n",
        "    while stack:\n",
        "        node = stack.pop()\n",
        "        if node.value == goal:\n",
        "            return True\n",
        "        if node.right:\n",
        "            stack.append(node.right)\n",
        "        if node.left:\n",
        "            stack.append(node.left)\n",
        "    return False\n",
        "\n",
        "# Step 8: Measure time for BFS and DFS\n",
        "results = []\n",
        "for i, data in enumerate(datasets):\n",
        "    bst_root = build_bst(data)\n",
        "    goal = data[len(data) - 220]  # Goal element\n",
        "\n",
        "    start_bfs = time.time()\n",
        "    bfs_result = bfs(bst_root, goal)\n",
        "    end_bfs = time.time()\n",
        "    bfs_time = end_bfs - start_bfs\n",
        "\n",
        "    start_dfs = time.time()\n",
        "    dfs_result = dfs(bst_root, goal)\n",
        "    end_dfs = time.time()\n",
        "    dfs_time = end_dfs - start_dfs\n",
        "\n",
        "    results.append({'Size': sizes[i], 'BFS Time': bfs_time, 'DFS Time': dfs_time})\n",
        "\n",
        "# Step 9: Create DataFrame\n",
        "df = pd.DataFrame(results)\n",
        "print(df)\n",
        "\n",
        "# Step 10: Plotting BFS vs DFS time\n",
        "plt.figure(figsize=(10, 6))\n",
        "plt.bar(df[\"Size\"], df[\"BFS Time\"], width=15000, label='BFS', color='skyblue')\n",
        "plt.bar(df[\"Size\"], df[\"DFS Time\"], width=15000, label='DFS', color='orange', alpha=0.7)\n",
        "plt.xlabel(\"Input Size\")\n",
        "plt.ylabel(\"Time (seconds)\")\n",
        "plt.title(\"BFS vs DFS Time Comparison\")\n",
        "plt.legend()\n",
        "plt.grid(True)\n",
        "plt.show()\n",
        "\n",
        "\n"
      ],
      "metadata": {
        "colab": {
          "base_uri": "https://localhost:8080/",
          "height": 675
        },
        "id": "1Pyg8eZR1BQt",
        "outputId": "d1b78000-45ff-4e28-a496-4315343f5734"
      },
      "execution_count": null,
      "outputs": [
        {
          "output_type": "stream",
          "name": "stdout",
          "text": [
            "      Size  BFS Time  DFS Time\n",
            "0     1000  0.000604  0.000266\n",
            "1    40000  0.028757  0.004334\n",
            "2    80000  0.026230  0.057063\n",
            "3   200000  0.195383  0.028048\n",
            "4  1000000  0.372882  0.665439\n"
          ]
        },
        {
          "output_type": "display_data",
          "data": {
            "text/plain": [
              "<Figure size 1000x600 with 1 Axes>"
            ],
            "image/png": "[encoded data removed]"
          },
          "metadata": {}
        }
      ]
    },
    {
      "cell_type": "markdown",
      "source": [
        "third task"
      ],
      "metadata": {
        "id": "irFMIJX6Mn_k"
      }
    },
    {
      "cell_type": "code",
      "source": [
        "\n",
        "\n",
        "\n",
        "\n",
        "\n",
        "\n",
        "\n",
        "\n",
        "\n",
        "\n",
        "from collections import deque\n",
        "graph={\n",
        "    'islamabad':['rawalpindi','lahore','peshawar'],\n",
        "    'rawalpindi':['islamabad','peshawar','quetta'],\n",
        "    'peshawar':['islamabad','rawalpindi','quetta'],\n",
        "    'lahore':['islamabad','multan','quetta'],\n",
        "    'multan':['lahore','karachi','quetta'],\n",
        "    'quetta':['rawalpindi','peshawar','karachi','multan'],\n",
        "    'karachi':['multan','quetta'],\n",
        "\n",
        "}\n",
        "def bfs_shortest_path(graph, start, goal):\n",
        "    visited = set ()\n",
        "    queue = deque([(start, [start])])\n",
        "    while queue:\n",
        "        (city, path) = queue.popleft()\n",
        "        if city == goal:\n",
        "          return path\n",
        "        if city not in visited:\n",
        "           for neighbour in graph.get(city,[]):\n",
        "               new_path=list(path)\n",
        "               new_path.append(neighbour)\n",
        "               queue.append((neighbour,new_path))\n",
        "           visited.add(city)\n",
        "    return None\n",
        "start_city='islamabad'\n",
        "goal_city='karachi'\n",
        "shortest_path=bfs_shortest_path(graph,start_city,goal_city)\n",
        "if shortest_path:\n",
        "  print(f\"Shortest path from {start_city} to {goal_city}: {' -> '.join(shortest_path)}\")\n",
        "else:\n",
        "  print(f\"No path found from {start_city} to {goal_city}.\")\n",
        "\n",
        "\n",
        "\n",
        "\n",
        "\n",
        "\n",
        "\n"
      ],
      "metadata": {
        "colab": {
          "base_uri": "https://localhost:8080/"
        },
        "id": "z5SPaGZAMqEJ",
        "outputId": "9d00284f-0d3e-4ca0-8c19-726f21e59915"
      },
      "execution_count": null,
      "outputs": [
        {
          "output_type": "stream",
          "name": "stdout",
          "text": [
            "Shortest path from islamabad to karachi: islamabad -> rawalpindi -> quetta -> karachi\n"
          ]
        }
      ]
    }
  ]
}